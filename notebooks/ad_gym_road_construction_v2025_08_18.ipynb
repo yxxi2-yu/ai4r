{
  "cells": [
    {
      "cell_type": "markdown",
      "metadata": {
        "id": "3_b2dNRBjADs"
      },
      "source": [
        "## Dependencies"
      ]
    },
    {
      "cell_type": "code",
      "execution_count": 8,
      "metadata": {
        "id": "kcdeMTmr1l-S"
      },
      "outputs": [],
      "source": [
        "!pip install -q gymnasium\n",
        "#!pip install -q stable_baselines3"
      ]
    },
    {
      "cell_type": "code",
      "execution_count": 9,
      "metadata": {
        "colab": {
          "base_uri": "https://localhost:8080/"
        },
        "id": "4qASuf1o1IFk",
        "outputId": "294b2b29-5029-4349-99c4-12445775f448"
      },
      "outputs": [
        {
          "output_type": "stream",
          "name": "stdout",
          "text": [
            "Cloning into 'ai4r-gym'...\n",
            "remote: Enumerating objects: 281, done.\u001b[K\n",
            "remote: Counting objects: 100% (217/217), done.\u001b[K\n",
            "remote: Compressing objects: 100% (202/202), done.\u001b[K\n",
            "remote: Total 281 (delta 113), reused 22 (delta 10), pack-reused 64 (from 1)\u001b[K\n",
            "Receiving objects: 100% (281/281), 875.70 KiB | 411.00 KiB/s, done.\n",
            "Resolving deltas: 100% (136/136), done.\n"
          ]
        }
      ],
      "source": [
        "!git clone https://gitlab.unimelb.edu.au/ai4r/ai4r-gym.git"
      ]
    },
    {
      "cell_type": "code",
      "execution_count": 10,
      "metadata": {
        "colab": {
          "base_uri": "https://localhost:8080/"
        },
        "id": "Vioqx1Rb1_PY",
        "outputId": "48ba84de-7362-4ed1-b5a1-a8a74e06d1e9"
      },
      "outputs": [
        {
          "output_type": "stream",
          "name": "stdout",
          "text": [
            "/content/ai4r-gym/ai4r-gym\n"
          ]
        }
      ],
      "source": [
        "%cd ai4r-gym"
      ]
    },
    {
      "cell_type": "markdown",
      "metadata": {
        "id": "yFKScohkPqn6"
      },
      "source": [
        "## Library Imports"
      ]
    },
    {
      "cell_type": "code",
      "execution_count": 11,
      "metadata": {
        "id": "vMrhAAlE2ila"
      },
      "outputs": [],
      "source": [
        "import numpy as np\n",
        "import matplotlib.pyplot as plt\n",
        "import gymnasium as gym\n",
        "\n",
        "#from stable_baselines3 import PPO, SAC, DDPG\n",
        "\n",
        "import ai4rgym\n",
        "\n",
        "from utils import ensure_dir, ensure_dirs\n",
        "#from utils import eval_model, evaluate_policy\n",
        "#from utils import plot_rewards, plot_and_animate_trajectory"
      ]
    },
    {
      "cell_type": "markdown",
      "metadata": {
        "id": "EZvLBp0Y2oca"
      },
      "source": [
        "## Specify the Road\n",
        "\n",
        "\n",
        "Specified as a list of dictionaries, where each\n",
        "element in the list specifies a segment of the road.\n",
        "Example segment dictionaries:\n",
        "```Python\n",
        "{\"type\":\"straight\", \"length\":3.0, \"v_max_kph\":60.0}\n",
        "{\"type\":\"curved\", \"curvature\":1/50.0, \"angle_in_degrees\":45.0, \"v_max_kph\":60.0}\n",
        "{\"type\":\"curved\", \"curvature\":1/50.0, \"length\":30.0, \"v_max_kph\":60.0}\n",
        "```"
      ]
    },
    {
      "cell_type": "code",
      "execution_count": 12,
      "metadata": {
        "id": "TCXqw6rF2Cz1"
      },
      "outputs": [],
      "source": [
        "road_elements_list = [\n",
        "    {\"type\":\"straight\", \"length\":100.0, \"v_max_kph\":80.0},\n",
        "    {\"type\":\"curved\", \"curvature\":1/60.0, \"angle_in_degrees\":180.0, \"v_max_kph\":80.0},\n",
        "    {\"type\":\"straight\", \"length\":100.0, \"v_max_kph\":80.0},\n",
        "    {\"type\":\"curved\", \"curvature\":-1/40.0, \"angle_in_degrees\":180.0, \"v_max_kph\":80.0},\n",
        "    {\"type\":\"straight\", \"length\":100.0, \"v_max_kph\":80.0},\n",
        "]"
      ]
    },
    {
      "cell_type": "markdown",
      "source": [
        "## Create a folder for saving figures"
      ],
      "metadata": {
        "id": "dYvCGHe_nuO8"
      }
    },
    {
      "cell_type": "code",
      "source": [
        "# Create the directories where the figures are saved\n",
        "path_for_saving_figures = f\"roads\"\n",
        "ensure_dir(path_for_saving_figures)"
      ],
      "metadata": {
        "id": "p-36R3yDnzoK"
      },
      "execution_count": 13,
      "outputs": []
    },
    {
      "cell_type": "markdown",
      "source": [
        "## Plot the road\n"
      ],
      "metadata": {
        "id": "0c5_pLsbnLjo"
      }
    },
    {
      "cell_type": "code",
      "source": [
        "from evaluation.evaluation_for_autonomous_driving import plot_road_from_list_of_road_elements\n",
        "\n",
        "#Name of this road\n",
        "this_road_name = \"01\"\n",
        "\n",
        "# Call the function that plots the road\n",
        "plot_road_from_list_of_road_elements(road_elements_list, path_for_saving_figures, this_road_name)\n"
      ],
      "metadata": {
        "colab": {
          "base_uri": "https://localhost:8080/",
          "height": 676
        },
        "id": "zvlQN1qbnKQk",
        "outputId": "ddea9125-efde-438f-8888-c95e8e00c05a"
      },
      "execution_count": 14,
      "outputs": [
        {
          "output_type": "stream",
          "name": "stdout",
          "text": [
            "WARNING: Curved road element specified with angular span of 180.0 [degrees]. Splitting this into two separate curved element\n",
            "WARNING: Curved road element specified with angular span of 180.0 [degrees]. Splitting this into two separate curved element\n",
            "Saved figure: roads/ad_road_01.pdf\n"
          ]
        },
        {
          "output_type": "execute_result",
          "data": {
            "text/plain": [
              "{'name': 'road center line',\n",
              " 'fig': <Figure size 640x480 with 1 Axes>,\n",
              " 'axs': <Axes: >,\n",
              " 'handles': [<matplotlib.lines.Line2D at 0x7c34fff94f90>,\n",
              "  <matplotlib.lines.Line2D at 0x7c350029fa10>,\n",
              "  <matplotlib.lines.Line2D at 0x7c350029f050>,\n",
              "  <matplotlib.lines.Line2D at 0x7c350029f150>,\n",
              "  <matplotlib.lines.Line2D at 0x7c350029f0d0>,\n",
              "  <matplotlib.lines.Line2D at 0x7c350029e850>,\n",
              "  <matplotlib.lines.Line2D at 0x7c350029ca50>]}"
            ]
          },
          "metadata": {},
          "execution_count": 14
        },
        {
          "output_type": "display_data",
          "data": {
            "text/plain": [
              "<Figure size 640x480 with 1 Axes>"
            ],
            "image/png": "[encoded data removed]"
          },
          "metadata": {}
        }
      ]
    }
  ],
  "metadata": {
    "colab": {
      "provenance": []
    },
    "kernelspec": {
      "display_name": "RL",
      "language": "python",
      "name": "python3"
    },
    "language_info": {
      "codemirror_mode": {
        "name": "ipython",
        "version": 3
      },
      "file_extension": ".py",
      "mimetype": "text/x-python",
      "name": "python",
      "nbconvert_exporter": "python",
      "pygments_lexer": "ipython3",
      "version": "3.9.16"
    }
  },
  "nbformat": 4,
  "nbformat_minor": 0
}